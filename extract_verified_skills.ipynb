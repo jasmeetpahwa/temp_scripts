{
 "cells": [
  {
   "cell_type": "code",
   "execution_count": null,
   "metadata": {
    "scrolled": false
   },
   "outputs": [],
   "source": [
    "import pandas as pd\n",
    "\n",
    "one_file = open(\"/home/jasmeet16-jtg/projects/temp_scripts/skill_standardization/A-Z/more.txt\", \"r\")\n",
    "a_file = open('/home/jasmeet16-jtg/projects/temp_scripts/skill_standardization/A-Z/A.txt', 'r')\n",
    "b_file = open('/home/jasmeet16-jtg/projects/temp_scripts/skill_standardization/A-Z/B.txt', 'r')\n",
    "c_file = open('/home/jasmeet16-jtg/projects/temp_scripts/skill_standardization/A-Z/C.txt', 'r')\n",
    "d_file = open('/home/jasmeet16-jtg/projects/temp_scripts/skill_standardization/A-Z/D.txt', 'r')\n",
    "e_file = open('/home/jasmeet16-jtg/projects/temp_scripts/skill_standardization/A-Z/E.txt', 'r')\n",
    "f_file = open('/home/jasmeet16-jtg/projects/temp_scripts/skill_standardization/A-Z/F.txt', 'r')\n",
    "g_file = open('/home/jasmeet16-jtg/projects/temp_scripts/skill_standardization/A-Z/G.txt', 'r')\n",
    "h_file = open('/home/jasmeet16-jtg/projects/temp_scripts/skill_standardization/A-Z/H.txt', 'r')\n",
    "i_file = open('/home/jasmeet16-jtg/projects/temp_scripts/skill_standardization/A-Z/I.txt', 'r')\n",
    "j_file = open('/home/jasmeet16-jtg/projects/temp_scripts/skill_standardization/A-Z/J.txt', 'r')\n",
    "k_file = open('/home/jasmeet16-jtg/projects/temp_scripts/skill_standardization/A-Z/K.txt', 'r')\n",
    "l_file = open('/home/jasmeet16-jtg/projects/temp_scripts/skill_standardization/A-Z/L.txt', 'r')\n",
    "m_file = open('/home/jasmeet16-jtg/projects/temp_scripts/skill_standardization/A-Z/M.txt', 'r')\n",
    "n_file = open('/home/jasmeet16-jtg/projects/temp_scripts/skill_standardization/A-Z/N.txt', 'r')\n",
    "o_file = open('/home/jasmeet16-jtg/projects/temp_scripts/skill_standardization/A-Z/O.txt', 'r')\n",
    "p_file = open('/home/jasmeet16-jtg/projects/temp_scripts/skill_standardization/A-Z/P.txt', 'r')\n",
    "q_file = open('/home/jasmeet16-jtg/projects/temp_scripts/skill_standardization/A-Z/Q.txt', 'r')\n",
    "r_file = open('/home/jasmeet16-jtg/projects/temp_scripts/skill_standardization/A-Z/R.txt', 'r')\n",
    "s_file = open('/home/jasmeet16-jtg/projects/temp_scripts/skill_standardization/A-Z/S.txt', 'r')\n",
    "t_file = open('/home/jasmeet16-jtg/projects/temp_scripts/skill_standardization/A-Z/T.txt', 'r')\n",
    "u_file = open('/home/jasmeet16-jtg/projects/temp_scripts/skill_standardization/A-Z/U.txt', 'r')\n",
    "v_file = open('/home/jasmeet16-jtg/projects/temp_scripts/skill_standardization/A-Z/V.txt', 'r')\n",
    "w_file = open('/home/jasmeet16-jtg/projects/temp_scripts/skill_standardization/A-Z/W.txt', 'r')\n",
    "x_file = open('/home/jasmeet16-jtg/projects/temp_scripts/skill_standardization/A-Z/X.txt', 'r')\n",
    "y_file = open('/home/jasmeet16-jtg/projects/temp_scripts/skill_standardization/A-Z/Y.txt', 'r')\n",
    "z_file = open('/home/jasmeet16-jtg/projects/temp_scripts/skill_standardization/A-Z/Z.txt', 'r')\n",
    "\n",
    "file_list = [a_file, b_file, c_file, d_file, e_file, f_file, g_file, h_file, i_file, j_file, k_file, l_file, m_file, n_file, o_file, p_file, q_file, r_file, s_file, t_file, u_file, v_file, w_file, x_file, y_file, z_file]\n",
    "\n",
    "def found_in_file(s, file):\n",
    "    s = s.strip()\n",
    "    file.seek(0)\n",
    "    for line in file:\n",
    "        if line.strip() == s:\n",
    "            return True\n",
    "    return False\n",
    "\n",
    "a_to_z_dir = '/home/jasmeet16-jtg/projects/temp_scripts/skill_standardization/A-Z'\n",
    "excel_data = '/home/jasmeet16-jtg/projects/temp_scripts/skill_standardization/Verified Data - Skills.csv'\n",
    "excel_data_intermed = '/home/jasmeet16-jtg/projects/temp_scripts/skill_standardization/excel_data_intermed.csv'\n",
    "excel_df = pd.read_csv(excel_data)\n",
    "for index, row in excel_df.iterrows():\n",
    "    if row['Status'].strip() == 'Verified':\n",
    "        continue\n",
    "        \n",
    "    char_ord = ord(str(row['Name'])[0].upper())\n",
    "    file_name = file_list[char_ord - 65] if char_ord>=65 and char_ord<=90 else one_file\n",
    "\n",
    "    if found_in_file(str(row['Name']), file_name):\n",
    "        excel_df.set_value(index, 'New Status', 'Verified')\n",
    "        excel_df.set_value(index, 'New Name', str(row['Name']))\n",
    "\n",
    "excel_df.to_csv(excel_data_intermed)"
   ]
  },
  {
   "cell_type": "markdown",
   "metadata": {},
   "source": [
    "Make verified skills list"
   ]
  },
  {
   "cell_type": "code",
   "execution_count": null,
   "metadata": {},
   "outputs": [],
   "source": [
    "all_skills = '/home/jasmeet16-jtg/projects/temp_scripts/skill_standardization/all_skills.txt'\n",
    "already_added_skills = excel_df[(excel_df['New Status'] == 'Verified') | (excel_df['Status'] == 'Verified')]['Name']\n",
    "all_skills_df = pd.read_csv(all_skills)['1']\n",
    "\n",
    "already_added_skills = set(already_added_skills)\n",
    "all_skills_df = set(all_skills_df)\n",
    "extra_skills = []\n",
    "for skill in all_skills_df - already_added_skills:\n",
    "    extra_skills.append(skill)\n",
    "length = len(extra_skills)\n",
    "\n",
    "verified_df = pd.DataFrame(columns=['ID', 'Name', 'Similar To', 'Status', 'New Status', 'New Name', 'New Similar To'])\n",
    "verified_df = pd.concat([excel_df, pd.DataFrame({'ID':[float('NaN')]*length, 'Name':[float('NaN')]*length, \\\n",
    "                                                 'Status':[float('NaN')]*length, 'New Status':['Verified']*length,\\\n",
    "                                                 'New Name':extra_skills, 'New Similar To':[float('NaN')]*length})])\n",
    "verified_df[['ID', 'Name', 'Similar To', 'Status', 'New Status', 'New Name', 'New Similar To']].to_csv('/home/jasmeet16-jtg/projects/temp_scripts/skill_standardization/verified_skills.csv', index=False)"
   ]
  },
  {
   "cell_type": "code",
   "execution_count": null,
   "metadata": {
    "scrolled": false
   },
   "outputs": [],
   "source": []
  },
  {
   "cell_type": "code",
   "execution_count": null,
   "metadata": {
    "scrolled": false
   },
   "outputs": [],
   "source": []
  },
  {
   "cell_type": "code",
   "execution_count": null,
   "metadata": {
    "scrolled": false
   },
   "outputs": [],
   "source": []
  }
 ],
 "metadata": {
  "kernelspec": {
   "display_name": "calyx_ds3",
   "language": "python",
   "name": "calyx_ds3"
  },
  "language_info": {
   "codemirror_mode": {
    "name": "ipython",
    "version": 3
   },
   "file_extension": ".py",
   "mimetype": "text/x-python",
   "name": "python",
   "nbconvert_exporter": "python",
   "pygments_lexer": "ipython3",
   "version": "3.5.2"
  }
 },
 "nbformat": 4,
 "nbformat_minor": 2
}
