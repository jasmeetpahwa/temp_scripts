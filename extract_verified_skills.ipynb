{
 "cells": [
  {
   "cell_type": "code",
   "execution_count": 37,
   "metadata": {
    "scrolled": false
   },
   "outputs": [
    {
     "name": "stderr",
     "output_type": "stream",
     "text": [
      "/home/jasmeet16-jtg/projects/virtualenvs/calyx_ds3/lib/python3.5/site-packages/ipykernel_launcher.py:51: FutureWarning: set_value is deprecated and will be removed in a future release. Please use .at[] or .iat[] accessors instead\n"
     ]
    }
   ],
   "source": [
    "import pandas as pd\n",
    "\n",
    "one_file = open(\"/home/jasmeet16-jtg/projects/temp_scripts/skill_standardization/A-Z/1.txt\", \"r\")\n",
    "a_file = open('/home/jasmeet16-jtg/projects/temp_scripts/skill_standardization/A-Z/A.txt', 'r')\n",
    "b_file = open('/home/jasmeet16-jtg/projects/temp_scripts/skill_standardization/A-Z/B.txt', 'r')\n",
    "c_file = open('/home/jasmeet16-jtg/projects/temp_scripts/skill_standardization/A-Z/C.txt', 'r')\n",
    "d_file = open('/home/jasmeet16-jtg/projects/temp_scripts/skill_standardization/A-Z/D.txt', 'r')\n",
    "e_file = open('/home/jasmeet16-jtg/projects/temp_scripts/skill_standardization/A-Z/E.txt', 'r')\n",
    "f_file = open('/home/jasmeet16-jtg/projects/temp_scripts/skill_standardization/A-Z/F.txt', 'r')\n",
    "g_file = open('/home/jasmeet16-jtg/projects/temp_scripts/skill_standardization/A-Z/G.txt', 'r')\n",
    "h_file = open('/home/jasmeet16-jtg/projects/temp_scripts/skill_standardization/A-Z/H.txt', 'r')\n",
    "i_file = open('/home/jasmeet16-jtg/projects/temp_scripts/skill_standardization/A-Z/I.txt', 'r')\n",
    "j_file = open('/home/jasmeet16-jtg/projects/temp_scripts/skill_standardization/A-Z/J.txt', 'r')\n",
    "k_file = open('/home/jasmeet16-jtg/projects/temp_scripts/skill_standardization/A-Z/K.txt', 'r')\n",
    "l_file = open('/home/jasmeet16-jtg/projects/temp_scripts/skill_standardization/A-Z/L.txt', 'r')\n",
    "m_file = open('/home/jasmeet16-jtg/projects/temp_scripts/skill_standardization/A-Z/M.txt', 'r')\n",
    "n_file = open('/home/jasmeet16-jtg/projects/temp_scripts/skill_standardization/A-Z/N.txt', 'r')\n",
    "o_file = open('/home/jasmeet16-jtg/projects/temp_scripts/skill_standardization/A-Z/O.txt', 'r')\n",
    "p_file = open('/home/jasmeet16-jtg/projects/temp_scripts/skill_standardization/A-Z/P.txt', 'r')\n",
    "q_file = open('/home/jasmeet16-jtg/projects/temp_scripts/skill_standardization/A-Z/Q.txt', 'r')\n",
    "r_file = open('/home/jasmeet16-jtg/projects/temp_scripts/skill_standardization/A-Z/R.txt', 'r')\n",
    "s_file = open('/home/jasmeet16-jtg/projects/temp_scripts/skill_standardization/A-Z/S.txt', 'r')\n",
    "t_file = open('/home/jasmeet16-jtg/projects/temp_scripts/skill_standardization/A-Z/T.txt', 'r')\n",
    "u_file = open('/home/jasmeet16-jtg/projects/temp_scripts/skill_standardization/A-Z/U.txt', 'r')\n",
    "v_file = open('/home/jasmeet16-jtg/projects/temp_scripts/skill_standardization/A-Z/V.txt', 'r')\n",
    "w_file = open('/home/jasmeet16-jtg/projects/temp_scripts/skill_standardization/A-Z/W.txt', 'r')\n",
    "x_file = open('/home/jasmeet16-jtg/projects/temp_scripts/skill_standardization/A-Z/X.txt', 'r')\n",
    "y_file = open('/home/jasmeet16-jtg/projects/temp_scripts/skill_standardization/A-Z/Y.txt', 'r')\n",
    "z_file = open('/home/jasmeet16-jtg/projects/temp_scripts/skill_standardization/A-Z/Z.txt', 'r')\n",
    "\n",
    "file_list = [a_file, b_file, c_file, d_file, e_file, f_file, g_file, h_file, i_file, j_file, k_file, l_file, m_file, n_file, o_file, p_file, q_file, r_file, s_file, t_file, u_file, v_file, w_file, x_file, y_file, z_file]\n",
    "\n",
    "def found_in_file(s, file):\n",
    "    s = s.strip()\n",
    "    file.seek(0)\n",
    "    for line in file:\n",
    "        if line.strip() == s:\n",
    "            return True\n",
    "    return False\n",
    "\n",
    "a_to_z_dir = '/home/jasmeet16-jtg/projects/temp_scripts/skill_standardization/A-Z'\n",
    "excel_data = '/home/jasmeet16-jtg/projects/temp_scripts/skill_standardization/Verified Data - Skills.csv'\n",
    "excel_data_intermed = '/home/jasmeet16-jtg/projects/temp_scripts/skill_standardization/excel_data_intermed.csv'\n",
    "excel_df = pd.read_csv(excel_data)\n",
    "for index, row in excel_df.iterrows():\n",
    "    \n",
    "    char_ord = ord(str(row['Name'])[0].upper())\n",
    "    file_name = file_list[char_ord - 65] if char_ord>=65 and char_ord<=90 else one_file\n",
    "\n",
    "    if found_in_file(str(row['Name']), file_name):\n",
    "        excel_df.set_value(index, 'New Status', 'Verified')\n",
    "\n",
    "excel_df.to_csv(excel_data_intermed)"
   ]
  },
  {
   "cell_type": "code",
   "execution_count": 46,
   "metadata": {
    "scrolled": false
   },
   "outputs": [
    {
     "name": "stdout",
     "output_type": "stream",
     "text": [
      "absent\n"
     ]
    }
   ],
   "source": [
    "x = set()\n",
    "x.add(1)\n",
    "if 2 in x:\n",
    "    print('present')\n",
    "else:\n",
    "    print('absent')"
   ]
  },
  {
   "cell_type": "code",
   "execution_count": null,
   "metadata": {
    "scrolled": false
   },
   "outputs": [],
   "source": []
  },
  {
   "cell_type": "code",
   "execution_count": null,
   "metadata": {
    "scrolled": false
   },
   "outputs": [],
   "source": []
  }
 ],
 "metadata": {
  "kernelspec": {
   "display_name": "calyx_ds3",
   "language": "python",
   "name": "calyx_ds3"
  },
  "language_info": {
   "codemirror_mode": {
    "name": "ipython",
    "version": 3
   },
   "file_extension": ".py",
   "mimetype": "text/x-python",
   "name": "python",
   "nbconvert_exporter": "python",
   "pygments_lexer": "ipython3",
   "version": "3.5.2"
  }
 },
 "nbformat": 4,
 "nbformat_minor": 2
}
